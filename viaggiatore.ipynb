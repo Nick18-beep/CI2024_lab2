{
 "cells": [
  {
   "cell_type": "markdown",
   "metadata": {},
   "source": [
    "Copyright **`(c)`** 2024 Giovanni Squillero `<squillero@polito.it>`  \n",
    "`https://github.com/squillero/computational-intelligence`  \n",
    "Free for personal or classroom use; see 'LICENCE.md' for details."
   ]
  },
  {
   "cell_type": "code",
   "execution_count": 53,
   "metadata": {},
   "outputs": [],
   "source": [
    "import random\n",
    "import pandas as pd\n",
    "import math\n",
    "from tqdm import tqdm \n",
    "import numpy as np\n",
    "import geopy.distance\n"
   ]
  },
  {
   "cell_type": "code",
   "execution_count": 54,
   "metadata": {},
   "outputs": [],
   "source": [
    "#change cities here\n",
    "cities=pd.read_csv('cities/vanuatu.csv', header=None, names=['name', 'lat', 'lon'])\n",
    "cities = {row['name']: (row['lat'], row['lon']) for index, row in cities.iterrows()}\n"
   ]
  },
  {
   "cell_type": "code",
   "execution_count": 55,
   "metadata": {},
   "outputs": [],
   "source": [
    "nomi_città = list(cities.keys())\n",
    "\n",
    "# Precompute the distance matrix\n",
    "dist_matrix = np.zeros((len(nomi_città), len(nomi_città)))\n",
    "\n",
    "for i, c1 in enumerate(nomi_città):\n",
    "    for j, c2 in enumerate(nomi_città):\n",
    "        if i != j:\n",
    "            dist_matrix[i, j] = geopy.distance.geodesic(cities[c1], cities[c2]).km\n",
    "\n",
    "# Function to get the distance from the precomputed matrix\n",
    "def distanza(c1: str, c2: str) -> float:\n",
    "    i, j = nomi_città.index(c1), nomi_città.index(c2)\n",
    "    return dist_matrix[i, j]\n",
    "\n",
    "# Calculate the cost of a route\n",
    "def costo(percorso: list[str]) -> float:\n",
    "    costo_totale = sum(distanza(percorso[i], percorso[i + 1]) for i in range(len(percorso) - 1))\n",
    "    costo_totale += distanza(percorso[0], percorso[-1])  # Close the loop\n",
    "    return costo_totale\n",
    "\n",
    "def is_valid_solution(percorso: list[str]) -> bool:\n",
    "\n",
    "    # Compare the length of the route with the number of cities\n",
    "    if len(percorso) != len(nomi_città):\n",
    "        return False\n",
    "\n",
    "    # Check if all cities are present in the route\n",
    "    return set(percorso) == set(nomi_città)\n"
   ]
  },
  {
   "cell_type": "markdown",
   "metadata": {},
   "source": [
    "## Greedy 1°"
   ]
  },
  {
   "cell_type": "code",
   "execution_count": 56,
   "metadata": {},
   "outputs": [
    {
     "name": "stdout",
     "output_type": "stream",
     "text": [
      "Best path (greedy): ['Isangel', 'Vila', 'Lakatoro', 'Norsup', 'Luganville', 'Port Olry', 'Longana', 'Sola']\n",
      "Path cost: 1475.528091104531\n"
     ]
    }
   ],
   "source": [
    "\n",
    "def percorso_greedy(partenza: str) -> list[str]:\n",
    "    percorso = [partenza]\n",
    "    città_da_visitare = set(cities.keys())\n",
    "    città_da_visitare.remove(partenza)\n",
    "\n",
    "    while città_da_visitare:\n",
    "        ultima_città = percorso[-1]\n",
    "        prossima_città = min(città_da_visitare, key=lambda c: distanza(ultima_città, c))\n",
    "        percorso.append(prossima_città)\n",
    "        città_da_visitare.remove(prossima_città)\n",
    "    return percorso\n",
    "\n",
    "\n",
    "\n",
    "\n",
    "città_di_partenza = list(cities.keys())[0]\n",
    "\n",
    "\n",
    "# find path  greedy\n",
    "miglior_percorso = percorso_greedy(città_di_partenza)\n",
    "\n",
    "print(\"Best path (greedy):\", miglior_percorso)\n",
    "print(\"Path cost:\", costo(miglior_percorso))\n",
    "\n",
    "\n",
    "\n"
   ]
  },
  {
   "cell_type": "markdown",
   "metadata": {},
   "source": [
    "#### greedy + 2opt"
   ]
  },
  {
   "cell_type": "code",
   "execution_count": 57,
   "metadata": {},
   "outputs": [
    {
     "name": "stdout",
     "output_type": "stream",
     "text": [
      "Best path (greedy + opt): ['Isangel', 'Vila', 'Lakatoro', 'Norsup', 'Luganville', 'Port Olry', 'Longana', 'Sola']\n",
      "Path cost: 1475.528091104531\n"
     ]
    }
   ],
   "source": [
    "\n",
    "def ottimizza_2opt(percorso: list[str]) -> list[str]:\n",
    "    migliorato = True\n",
    "    while migliorato:\n",
    "        migliorato = False\n",
    "        for i in range(1, len(percorso) - 1):\n",
    "            for j in range(i + 1, len(percorso)):\n",
    "                if j - i == 1:  # Avoid consecutive swaps\n",
    "                    continue\n",
    "                nuovo_percorso = percorso[:i] + percorso[i:j][::-1] + percorso[j:]\n",
    "                if costo(nuovo_percorso) < costo(percorso):\n",
    "                    percorso = nuovo_percorso\n",
    "                    migliorato = True\n",
    "    return percorso\n",
    "\n",
    "\n",
    "def ottimizza_3opt(percorso: list[str]) -> list[str]:\n",
    "    migliorato = True\n",
    "    while migliorato:\n",
    "        migliorato = False\n",
    "        n = len(percorso)\n",
    "        for i in range(n - 2):\n",
    "            for j in range(i + 2, n - 1):\n",
    "                for k in range(j + 2, n if i > 0 else n - 1):\n",
    "                     # Generate the three possible new paths\n",
    "                    nuovo_percorso1 = percorso[:i] + percorso[i:j][::-1] + percorso[j:k][::-1] + percorso[k:]\n",
    "                    nuovo_percorso2 = percorso[:i] + percorso[j:k] + percorso[i:j] + percorso[k:]\n",
    "                    nuovo_percorso3 = percorso[:i] + percorso[j:k][::-1] + percorso[i:j][::-1] + percorso[k:]\n",
    "                    \n",
    "                    # Check if one of the new paths is better\n",
    "                    for nuovo_percorso in [nuovo_percorso1, nuovo_percorso2, nuovo_percorso3]:\n",
    "                        if costo(nuovo_percorso) < costo(percorso):\n",
    "                            percorso = nuovo_percorso\n",
    "                            migliorato = True\n",
    "    return percorso\n",
    "\n",
    "\n",
    "miglior_percorso = ottimizza_2opt(miglior_percorso)\n",
    "\n",
    "costo_totale = costo(miglior_percorso)\n",
    "\n",
    "\n",
    "print(\"Best path (greedy + opt):\", miglior_percorso)\n",
    "print(\"Path cost:\", costo_totale)\n"
   ]
  },
  {
   "cell_type": "markdown",
   "metadata": {},
   "source": [
    "## Lin-Kernighan"
   ]
  },
  {
   "cell_type": "code",
   "execution_count": 58,
   "metadata": {},
   "outputs": [
    {
     "name": "stdout",
     "output_type": "stream",
     "text": [
      "True\n",
      "Best path (Lin-Kernighan): ['Isangel', 'Longana', 'Sola', 'Port Olry', 'Luganville', 'Norsup', 'Lakatoro', 'Vila']\n",
      "Path cost: 1345.5449564733115\n"
     ]
    }
   ],
   "source": [
    "def lin_kernighan(cities, max_iterations=10000):\n",
    "    current_solution = list(cities.keys())\n",
    "    current_cost = costo(current_solution)\n",
    "\n",
    "    improved = True\n",
    "    while improved and max_iterations > 0:\n",
    "        improved = False\n",
    "        \n",
    "        for i in range(len(current_solution)):\n",
    "            for j in range(i + 2, len(current_solution)):\n",
    "                # Calculate the cost of the new path after the swap\n",
    "                new_cost = (current_cost -\n",
    "                             distanza(current_solution[i], current_solution[i + 1]) -\n",
    "                             distanza(current_solution[j], current_solution[(j + 1) % len(current_solution)]) +\n",
    "                             distanza(current_solution[i], current_solution[j]) +\n",
    "                             distanza(current_solution[i + 1], current_solution[(j + 1) % len(current_solution)]))\n",
    "\n",
    "                # Check if the new cost is better\n",
    "                if new_cost < current_cost:\n",
    "                    # Perform the swap in-place\n",
    "                    current_solution[i + 1:j + 1] = reversed(current_solution[i + 1:j + 1])\n",
    "                    current_cost = new_cost\n",
    "                    improved = True\n",
    "                    break  # Exit the inner loop if an improvement was found\n",
    "            \n",
    "            if improved:\n",
    "                break  # Exit the outer loop if an improvement was found\n",
    "\n",
    "        max_iterations -= 1  # Decrement the iteration counter\n",
    "\n",
    "    return current_solution, current_cost\n",
    "\n",
    "# Run the algorithm\n",
    "final_path, final_cost = lin_kernighan(cities)\n",
    "print(is_valid_solution(final_path))\n",
    "print(\"Best path (Lin-Kernighan):\", final_path)\n",
    "print(\"Path cost:\", costo(final_path))\n"
   ]
  },
  {
   "cell_type": "markdown",
   "metadata": {},
   "source": [
    "## genetic"
   ]
  },
  {
   "cell_type": "code",
   "execution_count": 59,
   "metadata": {},
   "outputs": [
    {
     "name": "stdout",
     "output_type": "stream",
     "text": [
      "Generation 499: Best cost = 1345.54 \t mutation rate=0.10\n",
      "Best path (genetic algorithm): ['Norsup', 'Luganville', 'Port Olry', 'Sola', 'Longana', 'Isangel', 'Vila', 'Lakatoro']\n",
      "Path cost: 1345.544956473311\n",
      "Valid solution: True\n"
     ]
    }
   ],
   "source": [
    "# Parameters of the genetic algorithm\n",
    "POPULATION_SIZE = 150\n",
    "NUM_GENERATIONS = 500\n",
    "INITIAL_MUTATION_RATE = 0.5  # Initial mutation rate\n",
    "MIN_MUTATION_RATE = 0.1      # Minimum mutation rate\n",
    "SELECTION_SIZE = 30\n",
    "ELITISM_SIZE = 5             # Number of elite individuals to keep (5/10% of the population)\n",
    "\n",
    "# Function to create a random path\n",
    "def crea_percorso_casuale(città: list[str]) -> list[str]:\n",
    "    percorso = città[:]\n",
    "    random.shuffle(percorso)\n",
    "    return percorso\n",
    "\n",
    "# Function to create an initial population\n",
    "def crea_popolazione(città: list[str], size: int) -> list[list[str]]:\n",
    "    \n",
    "    popolazione=[]\n",
    "    for _ in range(size):\n",
    "        popolazione.append(crea_percorso_casuale(città))\n",
    "    return popolazione\n",
    "\n",
    "# Function to select an individual using tournament selection\n",
    "def selezione_torneo(popolazione: list[list[str]], size: int) -> list[str]:\n",
    "    partecipanti = random.sample(popolazione, size)\n",
    "    return min(partecipanti, key=lambda percorso: costo(percorso))\n",
    "\n",
    "# Function to select an individual using rank-based selection\n",
    "def selezione_ranking(popolazione: list[list[str]]) -> list[str]:\n",
    "    popolazione_ordinata = sorted(popolazione, key=lambda percorso: costo(percorso))\n",
    "    rank_weights = [1 / (i + 1) for i in range(len(popolazione_ordinata))]\n",
    "    somma_pesi = sum(rank_weights)\n",
    "    probabilità = [peso / somma_pesi for peso in rank_weights]\n",
    "    return random.choices(popolazione_ordinata, weights=probabilità, k=1)[0]\n",
    "\n",
    "# Hybrid PMX-OX crossover function\n",
    "def pmx_ox_crossover(parent1: list[str], parent2: list[str]) -> list[str]:\n",
    "    size = len(parent1)\n",
    "    child = [-1] * size\n",
    "    start, end = sorted(random.sample(range(size), 2))\n",
    "    \n",
    "    # PMX: Copy segment from the first parent\n",
    "    child[start:end] = parent1[start:end]\n",
    "    \n",
    "    # OX: Map values from the second parent to the copied segment\n",
    "    for i in range(start, end):\n",
    "        if parent2[i] not in child:\n",
    "            pos = i\n",
    "            while True:\n",
    "                mapped_city = parent1[pos]\n",
    "                pos = parent2.index(mapped_city)\n",
    "                if child[pos] == -1:\n",
    "                    child[pos] = parent2[i]\n",
    "                    break\n",
    "\n",
    "    # Fill empty spaces with remaining cities from the second parent\n",
    "    for i in range(size):\n",
    "        if child[i] == -1:\n",
    "            child[i] = parent2[i]\n",
    "    return child\n",
    "\n",
    "# Mutation function (reverse a subsequence)\n",
    "def mutazione(percorso: list[str]) -> list[str]:\n",
    "    i, j = sorted(random.sample(range(len(percorso)), 2))\n",
    "    percorso[i:j+1] = reversed(percorso[i:j+1])\n",
    "    return percorso\n",
    "\n",
    "# Main function of the genetic algorithm with hybrid selection\n",
    "def algoritmo_genetico(città: list[str], generations: int, population_size: int, \n",
    "                       initial_mutation_rate: float, min_mutation_rate: float, \n",
    "                       elitism_size: int) -> list[str]:\n",
    "    \n",
    "    popolazione = crea_popolazione(città, population_size)\n",
    "    miglior_costo_globale = float('inf')\n",
    "    \n",
    "    for generazione in range(generations):\n",
    "        popolazione.sort(key=lambda percorso: costo(percorso))\n",
    "        \n",
    "        # Keep the elite\n",
    "        elite = popolazione[:elitism_size]\n",
    "        nuova_generazione = elite[:]\n",
    "        \n",
    "        # Gradually update the mutation rate\n",
    "        mutation_rate = max(min_mutation_rate, initial_mutation_rate * (1 - generazione / generations))\n",
    "        \n",
    "        # Generate a new population\n",
    "        for _ in range(population_size - elitism_size):\n",
    "            if random.random() < 0.5:\n",
    "                parent1 = selezione_ranking(popolazione)\n",
    "                parent2 = selezione_ranking(popolazione)\n",
    "            else:\n",
    "                parent1 = selezione_torneo(popolazione, SELECTION_SIZE)\n",
    "                parent2 = selezione_torneo(popolazione, SELECTION_SIZE)\n",
    "            \n",
    "            child = pmx_ox_crossover(parent1, parent2)\n",
    "            \n",
    "            if random.random() < mutation_rate:\n",
    "                child = mutazione(child)\n",
    "            \n",
    "            nuova_generazione.append(child)\n",
    "        \n",
    "        popolazione = nuova_generazione[:population_size]\n",
    "        print(f\"Generation {generazione}: Best cost = {costo(elite[0]):.2f} \\t mutation rate={mutation_rate:.2f}\", end='\\r')\n",
    "    \n",
    "    return min(popolazione, key=lambda percorso: costo(percorso))\n",
    "\n",
    "# Run the genetic algorithm\n",
    "nomi_città = list(cities.keys())\n",
    "miglior_percorso = algoritmo_genetico(nomi_città, NUM_GENERATIONS, POPULATION_SIZE, INITIAL_MUTATION_RATE, MIN_MUTATION_RATE, ELITISM_SIZE)\n",
    "\n",
    "# Print the best path and cost\n",
    "print(\"\\nBest path (genetic algorithm):\", miglior_percorso)\n",
    "print(\"Path cost:\", costo(miglior_percorso))\n",
    "print(\"Valid solution:\", is_valid_solution(miglior_percorso))\n"
   ]
  }
 ],
 "metadata": {
  "kernelspec": {
   "display_name": "6_friends",
   "language": "python",
   "name": "python3"
  },
  "language_info": {
   "codemirror_mode": {
    "name": "ipython",
    "version": 3
   },
   "file_extension": ".py",
   "mimetype": "text/x-python",
   "name": "python",
   "nbconvert_exporter": "python",
   "pygments_lexer": "ipython3",
   "version": "3.12.2"
  }
 },
 "nbformat": 4,
 "nbformat_minor": 2
}
